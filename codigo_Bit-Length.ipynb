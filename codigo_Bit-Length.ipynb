{
 "cells": [
  {
   "cell_type": "code",
   "execution_count": 8,
   "metadata": {},
   "outputs": [
    {
     "name": "stdout",
     "output_type": "stream",
     "text": [
      "Datos codificados: 00100010010\n",
      "Diccionario de codificación: {'c': '0', 'd': '1', 'b': '0', 'r': '1', 'a': '0'}\n",
      "Datos decodificados: aaraaaraara\n"
     ]
    }
   ],
   "source": [
    "from collections import defaultdict\n",
    "\n",
    "def bit_length_encode(data):\n",
    "    # Crear un diccionario para contar la frecuencia de cada símbolo\n",
    "    freq_dict = defaultdict(int)\n",
    "    for symbol in data:\n",
    "        freq_dict[symbol] += 1\n",
    "\n",
    "    # Crear una lista de tuplas de (símbolo, frecuencia)\n",
    "    symbol_freq = list(freq_dict.items())\n",
    "\n",
    "    # Ordenar la lista de tuplas por frecuencia\n",
    "    symbol_freq.sort(key=lambda x: x[1])\n",
    "\n",
    "    # Crear un diccionario de codificación donde las longitudes de bits son variables\n",
    "    encoding_dict = {}\n",
    "    current_code = '0'\n",
    "    for symbol, freq in symbol_freq:\n",
    "        encoding_dict[symbol] = current_code\n",
    "        current_code = '0' if current_code == '1' else '1' * len(current_code)\n",
    "\n",
    "    # Codificar los datos\n",
    "    encoded_data = ''.join([encoding_dict[symbol] for symbol in data])\n",
    "\n",
    "    return encoded_data, encoding_dict\n",
    "\n",
    "def bit_length_decode(encoded_data, encoding_dict):\n",
    "    # Invertir el diccionario de codificación para decodificar\n",
    "    decoding_dict = {code: symbol for symbol, code in encoding_dict.items()}\n",
    "\n",
    "    decoded_data = ''\n",
    "    current_code = ''\n",
    "    for bit in encoded_data:\n",
    "        current_code += bit\n",
    "        if current_code in decoding_dict:\n",
    "            decoded_data += decoding_dict[current_code]\n",
    "            current_code = ''\n",
    "\n",
    "    return decoded_data\n",
    "\n",
    "# Ejemplo de uso\n",
    "data = \"abracadabra\"\n",
    "\n",
    "# Codificar los datos utilizando Bit-Length Encoding\n",
    "encoded_data, encoding_dict = bit_length_encode(data)\n",
    "print(\"Datos codificados:\", encoded_data)\n",
    "print(\"Diccionario de codificación:\", encoding_dict)\n",
    "\n",
    "# Decodificar los datos\n",
    "decoded_data = bit_length_decode(encoded_data, encoding_dict)\n",
    "print(\"Datos decodificados:\", decoded_data)\n"
   ]
  }
 ],
 "metadata": {
  "kernelspec": {
   "display_name": "myenv",
   "language": "python",
   "name": "python3"
  },
  "language_info": {
   "codemirror_mode": {
    "name": "ipython",
    "version": 3
   },
   "file_extension": ".py",
   "mimetype": "text/x-python",
   "name": "python",
   "nbconvert_exporter": "python",
   "pygments_lexer": "ipython3",
   "version": "3.8.16"
  }
 },
 "nbformat": 4,
 "nbformat_minor": 2
}
