{
 "cells": [
  {
   "cell_type": "code",
   "execution_count": 6,
   "metadata": {},
   "outputs": [
    {
     "name": "stdout",
     "output_type": "stream",
     "text": [
      "Datos originales: abracadabra\n",
      "Datos codificados: [('a', 1), ('b', 1), ('r', 1), ('a', 1), ('c', 1), ('a', 1), ('d', 1), ('a', 1), ('b', 1), ('r', 1), ('a', 1)]\n",
      "Datos decodificados: abracadabra\n"
     ]
    }
   ],
   "source": [
    "def run_length_encode(data):\n",
    "    encoded_data = []\n",
    "    i = 0\n",
    "    while i < len(data):\n",
    "        run_length = 1\n",
    "        while i + 1 < len(data) and data[i] == data[i + 1]:\n",
    "            run_length += 1\n",
    "            i += 1\n",
    "        encoded_data.append((data[i], run_length))\n",
    "        i += 1\n",
    "    return encoded_data\n",
    "\n",
    "def run_length_decode(encoded_data):\n",
    "    decoded_data = \"\"\n",
    "    for symbol, run_length in encoded_data:\n",
    "        decoded_data += symbol * run_length\n",
    "    return decoded_data\n",
    "\n",
    "# Ejemplo de uso\n",
    "data = \"abracadabra\"\n",
    "data2 = \"AAAABBBCCDAA\"\n",
    "print(\"Datos originales:\", data)\n",
    "\n",
    "# Codificar los datos utilizando Run-Length Encoding\n",
    "encoded_data = run_length_encode(data)\n",
    "print(\"Datos codificados:\", encoded_data)\n",
    "\n",
    "# Decodificar los datos\n",
    "decoded_data = run_length_decode(encoded_data)\n",
    "print(\"Datos decodificados:\", decoded_data)\n"
   ]
  }
 ],
 "metadata": {
  "kernelspec": {
   "display_name": "myenv",
   "language": "python",
   "name": "python3"
  },
  "language_info": {
   "codemirror_mode": {
    "name": "ipython",
    "version": 3
   },
   "file_extension": ".py",
   "mimetype": "text/x-python",
   "name": "python",
   "nbconvert_exporter": "python",
   "pygments_lexer": "ipython3",
   "version": "3.8.16"
  }
 },
 "nbformat": 4,
 "nbformat_minor": 2
}
