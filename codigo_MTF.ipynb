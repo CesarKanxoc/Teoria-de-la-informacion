{
 "cells": [
  {
   "cell_type": "code",
   "execution_count": 2,
   "metadata": {},
   "outputs": [
    {
     "name": "stdout",
     "output_type": "stream",
     "text": [
      "Mensaje codificado: [72, 101, 108, 0, 111, 36, 90, 2, 114, 4, 104]\n",
      "Mensaje decodificado: [72, 101, 108, 108, 111, 32, 87, 111, 114, 108, 100]\n"
     ]
    }
   ],
   "source": [
    "def mtf_encode(message):\n",
    "    symbols = list(range(256))  # Crear una lista de símbolos del 0 al 255\n",
    "    encoded_message = []\n",
    "    \n",
    "    for symbol in message:\n",
    "        symbol_index = symbols.index(symbol)  # Encontrar el índice del símbolo\n",
    "        encoded_message.append(symbol_index)  # Agregar el índice al mensaje codificado\n",
    "        del symbols[symbol_index]  # Eliminar el símbolo de la lista\n",
    "        symbols.insert(0, symbol)  # Agregar el símbolo al principio de la lista\n",
    "    \n",
    "    return encoded_message\n",
    "\n",
    "def mtf_decode(encoded_message):\n",
    "    symbols = list(range(256))  # Crear una lista de símbolos del 0 al 255\n",
    "    decoded_message = []\n",
    "    \n",
    "    for symbol_index in encoded_message:\n",
    "        symbol = symbols[symbol_index]  # Obtener el símbolo correspondiente al índice\n",
    "        decoded_message.append(symbol)  # Agregar el símbolo al mensaje decodificado\n",
    "        del symbols[symbol_index]  # Eliminar el símbolo de la lista\n",
    "        symbols.insert(0, symbol)  # Agregar el símbolo al principio de la lista\n",
    "    \n",
    "    return decoded_message\n",
    "\n",
    "# Ejemplo de uso\n",
    "message = [72, 101, 108, 108, 111, 32, 87, 111, 114, 108, 100]  # \"Hello World\" en valores ASCII\n",
    "\n",
    "# Codificar el mensaje utilizando MTF\n",
    "encoded_message = mtf_encode(message)\n",
    "print(\"Mensaje codificado:\", encoded_message)\n",
    "\n",
    "# Decodificar el mensaje MTF\n",
    "decoded_message = mtf_decode(encoded_message)\n",
    "print(\"Mensaje decodificado:\", decoded_message)\n"
   ]
  }
 ],
 "metadata": {
  "kernelspec": {
   "display_name": "myenv",
   "language": "python",
   "name": "python3"
  },
  "language_info": {
   "codemirror_mode": {
    "name": "ipython",
    "version": 3
   },
   "file_extension": ".py",
   "mimetype": "text/x-python",
   "name": "python",
   "nbconvert_exporter": "python",
   "pygments_lexer": "ipython3",
   "version": "3.8.16"
  }
 },
 "nbformat": 4,
 "nbformat_minor": 2
}
