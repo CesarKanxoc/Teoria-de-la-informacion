{
 "cells": [
  {
   "cell_type": "code",
   "execution_count": 1,
   "metadata": {},
   "outputs": [
    {
     "name": "stdout",
     "output_type": "stream",
     "text": [
      "Los códigos Huffman son: {'g': '0000', 'd': '0001', 't': '0010', 'f': '0011', 'c': '0100', 's': '0101', 'a': '011', 'n': '1000', 'm': '1001', ' ': '101', 'h': '110000', 'l': '110001', 'p': '110010', 'H': '110011', 'i': '1101', 'o': '1110', 'r': '11110', 'u': '111110', 'e': '111111'}\n",
      "Texto original: Huffman coding is a data compression algorithm\n",
      "Texto codificado: 1100111111100011001110010111000101010011100001110110000000101110101011010111010001011001001110101001110100111001011110111111010101011101111010001010111100010000111011110110100101100001001\n",
      "Texto decodificado: Huffman coding is a data compression algorithm\n"
     ]
    }
   ],
   "source": [
    "import heapq\n",
    "from collections import Counter\n",
    "\n",
    "class HuffmanNode:\n",
    "    def __init__(self, char, freq):\n",
    "        self.char = char\n",
    "        self.freq = freq\n",
    "        self.left = None\n",
    "        self.right = None\n",
    "\n",
    "    def __lt__(self, other):\n",
    "        return self.freq < other.freq\n",
    "\n",
    "def build_huffman_tree(text):\n",
    "    if not text:\n",
    "        return None\n",
    "\n",
    "    freq_counter = Counter(text)\n",
    "    heap = [HuffmanNode(char, freq) for char, freq in freq_counter.items()]\n",
    "    heapq.heapify(heap)\n",
    "\n",
    "    while len(heap) > 1:\n",
    "        left = heapq.heappop(heap)\n",
    "        right = heapq.heappop(heap)\n",
    "        merged = HuffmanNode(None, left.freq + right.freq)\n",
    "        merged.left = left\n",
    "        merged.right = right\n",
    "        heapq.heappush(heap, merged)\n",
    "\n",
    "    return heap[0]\n",
    "\n",
    "def build_huffman_codes(node, current_code, huffman_codes):\n",
    "    if node.char is not None:\n",
    "        huffman_codes[node.char] = current_code\n",
    "        return\n",
    "    build_huffman_codes(node.left, current_code + '0', huffman_codes)\n",
    "    build_huffman_codes(node.right, current_code + '1', huffman_codes)\n",
    "\n",
    "def huffman_encode(text):\n",
    "    root = build_huffman_tree(text)\n",
    "    if root is None:\n",
    "        return \"\", None\n",
    "\n",
    "    huffman_codes = {}\n",
    "    build_huffman_codes(root, '', huffman_codes)\n",
    "    encoded_text = ''.join(huffman_codes[char] for char in text)\n",
    "    return encoded_text, root, huffman_codes\n",
    "\n",
    "def huffman_decode(encoded_text, root):\n",
    "    if root is None:\n",
    "        return \"\"\n",
    "    \n",
    "    decoded_text = []\n",
    "    current_node = root\n",
    "    for bit in encoded_text:\n",
    "        if bit == '0':\n",
    "            current_node = current_node.left\n",
    "        else:\n",
    "            current_node = current_node.right\n",
    "\n",
    "        if current_node.char is not None:\n",
    "            decoded_text.append(current_node.char)\n",
    "            current_node = root\n",
    "\n",
    "    return ''.join(decoded_text)\n",
    "\n",
    "text = \"Huffman coding is a data compression algorithm\"\n",
    "encoded_text, huffman_tree, huffman_codes = huffman_encode(text)\n",
    "print(f\"Los códigos Huffman son: {huffman_codes}\")\n",
    "print(f\"Texto original: {text}\")\n",
    "print(f\"Texto codificado: {encoded_text}\")\n",
    "decoded_text = huffman_decode(encoded_text, huffman_tree)\n",
    "print(f\"Texto decodificado: {decoded_text}\")\n"
   ]
  }
 ],
 "metadata": {
  "kernelspec": {
   "display_name": "myenv",
   "language": "python",
   "name": "python3"
  },
  "language_info": {
   "codemirror_mode": {
    "name": "ipython",
    "version": 3
   },
   "file_extension": ".py",
   "mimetype": "text/x-python",
   "name": "python",
   "nbconvert_exporter": "python",
   "pygments_lexer": "ipython3",
   "version": "3.8.16"
  }
 },
 "nbformat": 4,
 "nbformat_minor": 2
}
