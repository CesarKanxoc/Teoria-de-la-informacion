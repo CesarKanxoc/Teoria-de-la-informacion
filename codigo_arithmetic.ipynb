{
 "cells": [
  {
   "cell_type": "code",
   "execution_count": 28,
   "metadata": {},
   "outputs": [
    {
     "name": "stdout",
     "output_type": "stream",
     "text": [
      "Valor codificado: 0.006376074089058526\n",
      "Mensaje decodificado: \u0000\n"
     ]
    }
   ],
   "source": [
    "class ArithmeticEncoder:\n",
    "    def __init__(self, precision):\n",
    "        self.low = 0\n",
    "        self.high = 1\n",
    "        self.value = 0\n",
    "        self.precision = precision\n",
    "\n",
    "    def encode(self, message, probabilities):\n",
    "        for symbol in message:\n",
    "            low_range = self.low\n",
    "            high_range = self.high\n",
    "            total_range = high_range - low_range\n",
    "            high = low_range + total_range * probabilities[symbol]\n",
    "            low = low_range + total_range * probabilities[symbol - 1]\n",
    "            self.low = low\n",
    "            self.high = high\n",
    "        return self.encode_value()\n",
    "\n",
    "    def encode_value(self):\n",
    "        return (self.low + self.high) / 2\n",
    "\n",
    "class ArithmeticDecoder:\n",
    "    def __init__(self, precision):\n",
    "        self.low = 0\n",
    "        self.high = 1\n",
    "        self.value = 0\n",
    "        self.precision = precision\n",
    "\n",
    "    def set_encoded_value(self, encoded_value):\n",
    "        self.value = encoded_value\n",
    "\n",
    "    def decode(self, probabilities, length):\n",
    "        message = []\n",
    "        for _ in range(length):\n",
    "            total_range = self.high - self.low\n",
    "            scaled_value = (self.value - self.low) / total_range\n",
    "            symbol = self.find_symbol(probabilities, scaled_value)\n",
    "            if symbol is not None:\n",
    "                message.append(symbol)\n",
    "                low_range = self.low + (total_range * probabilities[symbol - 1])\n",
    "                high_range = self.low + (total_range * probabilities[symbol])\n",
    "                self.low = low_range\n",
    "                self.high = high_range\n",
    "            else:\n",
    "                break\n",
    "        return message\n",
    "\n",
    "    def find_symbol(self, probabilities, scaled_value):\n",
    "        for symbol, prob in enumerate(probabilities):\n",
    "            if scaled_value < prob:\n",
    "                return symbol\n",
    "        return None\n",
    "\n",
    "# Ejemplo de uso\n",
    "import numpy as np  # Añadido para generar probabilidades aleatorias\n",
    "\n",
    "# Generar probabilidades aleatorias para este ejemplo\n",
    "probabilities = np.random.rand(256)\n",
    "probabilities /= probabilities.sum()\n",
    "\n",
    "message = [ord(char) for char in \"hello world\"]  # Convierte el mensaje a códigos ASCII\n",
    "\n",
    "encoder = ArithmeticEncoder(precision=32)\n",
    "encoded_value = encoder.encode(message, probabilities)\n",
    "print(\"Valor codificado:\", encoded_value)\n",
    "\n",
    "decoder = ArithmeticDecoder(precision=32)\n",
    "decoder.set_encoded_value(encoded_value)\n",
    "decoded_message = \"\".join([chr(symbol) for symbol in decoder.decode(probabilities, length=len(message))])\n",
    "print(\"Mensaje decodificado:\", decoded_message)\n"
   ]
  }
 ],
 "metadata": {
  "kernelspec": {
   "display_name": "myenv",
   "language": "python",
   "name": "python3"
  },
  "language_info": {
   "codemirror_mode": {
    "name": "ipython",
    "version": 3
   },
   "file_extension": ".py",
   "mimetype": "text/x-python",
   "name": "python",
   "nbconvert_exporter": "python",
   "pygments_lexer": "ipython3",
   "version": "3.8.16"
  }
 },
 "nbformat": 4,
 "nbformat_minor": 2
}
