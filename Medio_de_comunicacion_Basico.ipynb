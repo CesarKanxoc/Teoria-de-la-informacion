{
  "cells": [
    {
      "cell_type": "code",
      "execution_count": 1,
      "metadata": {
        "id": "-iJaQuKWX7qm"
      },
      "outputs": [],
      "source": [
        "import random"
      ]
    },
    {
      "cell_type": "markdown",
      "metadata": {
        "id": "4C0WyigvjStY"
      },
      "source": [
        "# Canal 1"
      ]
    },
    {
      "cell_type": "code",
      "execution_count": 2,
      "metadata": {
        "colab": {
          "base_uri": "https://localhost:8080/"
        },
        "id": "XzUIs_xr1NMG",
        "outputId": "f56e1d17-1252-43d5-9499-08b2e244e693"
      },
      "outputs": [
        {
          "name": "stdout",
          "output_type": "stream",
          "text": [
            "v = 118\n",
            "i = 105\n",
            "s = 115\n",
            "u = 117\n",
            "a = 97\n",
            "l = 108\n",
            "i = 105\n",
            "z = 122\n",
            "a = 97\n",
            "c = 99\n",
            "i = 105\n",
            "o = 111\n",
            "n = 110\n",
            "  = 32\n",
            "d = 100\n",
            "e = 101\n",
            "  = 32\n",
            "d = 100\n",
            "a = 97\n",
            "t = 116\n",
            "o = 111\n",
            "s = 115\n",
            "\n",
            " = 10\n",
            "n = 110\n",
            "a = 97\n",
            "d = 100\n",
            "a = 97\n",
            "\n",
            " = 10\n",
            "m = 109\n",
            "e = 101\n",
            "t = 116\n",
            "o = 111\n",
            "d = 100\n",
            "o = 111\n",
            "s = 115\n",
            "  = 32\n",
            "d = 100\n",
            "e = 101\n",
            "  = 32\n",
            "d = 100\n",
            "e = 101\n",
            "s = 115\n",
            "a = 97\n",
            "r = 114\n",
            "r = 114\n",
            "o = 111\n",
            "l = 108\n",
            "l = 108\n",
            "o = 111\n"
          ]
        }
      ],
      "source": [
        "with open(\"mensaje.txt\") as archivo:\n",
        "    string = archivo.readlines()\n",
        "    archivo.close()\n",
        "for a in string:\n",
        "  for b in a:\n",
        "    print(b + ' = ' + str(ord(b)))"
      ]
    },
    {
      "cell_type": "markdown",
      "metadata": {
        "id": "UjEdQb6ojb4X"
      },
      "source": [
        "# Canal 2"
      ]
    },
    {
      "cell_type": "code",
      "execution_count": 3,
      "metadata": {
        "colab": {
          "base_uri": "https://localhost:8080/"
        },
        "id": "ELzY9OYD7TEQ",
        "outputId": "5aaca25e-08fa-46a8-84e3-3ad997997306"
      },
      "outputs": [
        {
          "name": "stdout",
          "output_type": "stream",
          "text": [
            "[1180, 1050, 1150, 1170, 970, 1080, 1050, 1220, 970, 990, 1050, 1110, 1100, 320, 1000, 1010, 320, 1000, 970, 1160, 1110, 1150, 100, 1100, 970, 1000, 970, 100, 1090, 1010, 1160, 1110, 1000, 1110, 1150, 320, 1000, 1010, 320, 1000, 1010, 1150, 970, 1140, 1140, 1110, 1080, 1080, 1110]\n"
          ]
        }
      ],
      "source": [
        "ascii_values = []\n",
        "for a in string:\n",
        "  for b in a:\n",
        "    ascii_values.append((ord(b)*10))\n",
        "print(ascii_values)"
      ]
    },
    {
      "cell_type": "markdown",
      "metadata": {
        "id": "DwhZYjUPjefS"
      },
      "source": [
        "# Canal 3"
      ]
    },
    {
      "cell_type": "code",
      "execution_count": 4,
      "metadata": {
        "colab": {
          "base_uri": "https://localhost:8080/"
        },
        "id": "MH-dec6AYlVE",
        "outputId": "af4ebe25-cae3-4ee1-d524-2dbbad256556"
      },
      "outputs": [
        {
          "name": "stdout",
          "output_type": "stream",
          "text": [
            "[1206, 1062, 1194, 1196, 1010, 1120, 1056, 1238, 1016, 1014, 1073, 1160, 1115, 346, 1003, 1052, 334, 1006, 1013, 1208, 1126, 1176, 141, 1140, 972, 1022, 980, 138, 1099, 1020, 1181, 1149, 1045, 1133, 1153, 327, 1035, 1020, 337, 1040, 1042, 1161, 970, 1184, 1161, 1112, 1126, 1093, 1110]\n"
          ]
        }
      ],
      "source": [
        "mensaje_con_ruido = []\n",
        "for c in ascii_values:\n",
        "  ruido = random.randint(0, 50)\n",
        "  mensaje = c + ruido\n",
        "  mensaje_con_ruido.append(mensaje)\n",
        "print(mensaje_con_ruido)"
      ]
    },
    {
      "cell_type": "markdown",
      "metadata": {
        "id": "a4ECkEBdjg9L"
      },
      "source": [
        "# Canal 4"
      ]
    },
    {
      "cell_type": "code",
      "execution_count": 5,
      "metadata": {
        "colab": {
          "base_uri": "https://localhost:8080/"
        },
        "id": "raTtCfLl22An",
        "outputId": "c43e115a-1b07-45ea-e3a6-f241e08179d9"
      },
      "outputs": [
        {
          "name": "stdout",
          "output_type": "stream",
          "text": [
            "['x', 'j', 'w', 'w', 'e', 'p', 'i', '{', 'e', 'e', 'k', 't', 'o', '\"', 'd', 'i', '!', 'd', 'e', 'x', 'p', 'u', '\\x0e', 'r', 'a', 'f', 'b', '\\r', 'm', 'f', 'v', 'r', 'h', 'q', 's', ' ', 'g', 'f', '!', 'h', 'h', 't', 'a', 'v', 't', 'o', 'p', 'm', 'o']\n"
          ]
        }
      ],
      "source": [
        "mensaje = []\n",
        "for d in mensaje_con_ruido:\n",
        "  decodificador = int(d / 10)\n",
        "  mensaje.append(chr(decodificador))\n",
        "print(mensaje)"
      ]
    },
    {
      "cell_type": "markdown",
      "metadata": {
        "id": "ZNy64WCjjjg7"
      },
      "source": [
        "# Canal 5"
      ]
    },
    {
      "cell_type": "code",
      "execution_count": 6,
      "metadata": {
        "id": "IankKw_De5kq"
      },
      "outputs": [
        {
          "ename": "FileNotFoundError",
          "evalue": "[Errno 2] No such file or directory: '/content/mensaje_recibido.txt'",
          "output_type": "error",
          "traceback": [
            "\u001b[1;31m---------------------------------------------------------------------------\u001b[0m",
            "\u001b[1;31mFileNotFoundError\u001b[0m                         Traceback (most recent call last)",
            "Cell \u001b[1;32mIn[6], line 2\u001b[0m\n\u001b[0;32m      1\u001b[0m mi_path \u001b[38;5;241m=\u001b[39m \u001b[38;5;124m\"\u001b[39m\u001b[38;5;124m/content/mensaje_recibido.txt\u001b[39m\u001b[38;5;124m\"\u001b[39m\n\u001b[1;32m----> 2\u001b[0m \u001b[38;5;28;01mwith\u001b[39;00m \u001b[38;5;28;43mopen\u001b[39;49m\u001b[43m(\u001b[49m\u001b[43mmi_path\u001b[49m\u001b[43m,\u001b[49m\u001b[43m \u001b[49m\u001b[38;5;124;43m'\u001b[39;49m\u001b[38;5;124;43ma+\u001b[39;49m\u001b[38;5;124;43m'\u001b[39;49m\u001b[43m)\u001b[49m \u001b[38;5;28;01mas\u001b[39;00m f:\n\u001b[0;32m      3\u001b[0m     \u001b[38;5;28;01mfor\u001b[39;00m i \u001b[38;5;129;01min\u001b[39;00m mensaje:\n\u001b[0;32m      4\u001b[0m         f\u001b[38;5;241m.\u001b[39mwrite(i)\n",
            "File \u001b[1;32mc:\\Users\\TOPMRE 3\\anaconda3\\envs\\myenv\\lib\\site-packages\\IPython\\core\\interactiveshell.py:284\u001b[0m, in \u001b[0;36m_modified_open\u001b[1;34m(file, *args, **kwargs)\u001b[0m\n\u001b[0;32m    277\u001b[0m \u001b[38;5;28;01mif\u001b[39;00m file \u001b[38;5;129;01min\u001b[39;00m {\u001b[38;5;241m0\u001b[39m, \u001b[38;5;241m1\u001b[39m, \u001b[38;5;241m2\u001b[39m}:\n\u001b[0;32m    278\u001b[0m     \u001b[38;5;28;01mraise\u001b[39;00m \u001b[38;5;167;01mValueError\u001b[39;00m(\n\u001b[0;32m    279\u001b[0m         \u001b[38;5;124mf\u001b[39m\u001b[38;5;124m\"\u001b[39m\u001b[38;5;124mIPython won\u001b[39m\u001b[38;5;124m'\u001b[39m\u001b[38;5;124mt let you open fd=\u001b[39m\u001b[38;5;132;01m{\u001b[39;00mfile\u001b[38;5;132;01m}\u001b[39;00m\u001b[38;5;124m by default \u001b[39m\u001b[38;5;124m\"\u001b[39m\n\u001b[0;32m    280\u001b[0m         \u001b[38;5;124m\"\u001b[39m\u001b[38;5;124mas it is likely to crash IPython. If you know what you are doing, \u001b[39m\u001b[38;5;124m\"\u001b[39m\n\u001b[0;32m    281\u001b[0m         \u001b[38;5;124m\"\u001b[39m\u001b[38;5;124myou can use builtins\u001b[39m\u001b[38;5;124m'\u001b[39m\u001b[38;5;124m open.\u001b[39m\u001b[38;5;124m\"\u001b[39m\n\u001b[0;32m    282\u001b[0m     )\n\u001b[1;32m--> 284\u001b[0m \u001b[38;5;28;01mreturn\u001b[39;00m \u001b[43mio_open\u001b[49m\u001b[43m(\u001b[49m\u001b[43mfile\u001b[49m\u001b[43m,\u001b[49m\u001b[43m \u001b[49m\u001b[38;5;241;43m*\u001b[39;49m\u001b[43margs\u001b[49m\u001b[43m,\u001b[49m\u001b[43m \u001b[49m\u001b[38;5;241;43m*\u001b[39;49m\u001b[38;5;241;43m*\u001b[39;49m\u001b[43mkwargs\u001b[49m\u001b[43m)\u001b[49m\n",
            "\u001b[1;31mFileNotFoundError\u001b[0m: [Errno 2] No such file or directory: '/content/mensaje_recibido.txt'"
          ]
        }
      ],
      "source": [
        "mi_path = \"/content/mensaje_recibido.txt\"\n",
        "with open(mi_path, 'a+') as f:\n",
        "    for i in mensaje:\n",
        "        f.write(i)"
      ]
    }
  ],
  "metadata": {
    "colab": {
      "provenance": [],
      "toc_visible": true
    },
    "kernelspec": {
      "display_name": "Python 3",
      "name": "python3"
    },
    "language_info": {
      "codemirror_mode": {
        "name": "ipython",
        "version": 3
      },
      "file_extension": ".py",
      "mimetype": "text/x-python",
      "name": "python",
      "nbconvert_exporter": "python",
      "pygments_lexer": "ipython3",
      "version": "3.8.16"
    }
  },
  "nbformat": 4,
  "nbformat_minor": 0
}
