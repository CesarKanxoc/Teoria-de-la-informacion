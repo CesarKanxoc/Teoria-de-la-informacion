{
  "cells": [
    {
      "cell_type": "code",
      "execution_count": 8,
      "metadata": {
        "id": "-iJaQuKWX7qm"
      },
      "outputs": [],
      "source": [
        "import random\n",
        "import base64\n",
        "import re"
      ]
    },
    {
      "cell_type": "markdown",
      "metadata": {
        "id": "4C0WyigvjStY"
      },
      "source": [
        "# Canal 1"
      ]
    },
    {
      "cell_type": "code",
      "execution_count": 9,
      "metadata": {
        "colab": {
          "base_uri": "https://localhost:8080/"
        },
        "id": "XzUIs_xr1NMG",
        "outputId": "f56e1d17-1252-43d5-9499-08b2e244e693"
      },
      "outputs": [],
      "source": [
        "def encode_book():\n",
        "    with open(\"QUIMICA 2 INVESTIGACION.pdf\", \"rb\") as archivo:\n",
        "        string = archivo.read()\n",
        "        string_64_encode = base64.b64encode(string)\n",
        "    packet_size = 1024  # Tamaño del paquete en bytes\n",
        "    packets = [string_64_encode[i:i+packet_size] for i in range(0, len(string_64_encode), packet_size)]\n",
        "    return packets"
      ]
    },
    {
      "cell_type": "markdown",
      "metadata": {},
      "source": [
        "# Canal 2"
      ]
    },
    {
      "cell_type": "code",
      "execution_count": 10,
      "metadata": {
        "colab": {
          "base_uri": "https://localhost:8080/"
        },
        "id": "ELzY9OYD7TEQ",
        "outputId": "5aaca25e-08fa-46a8-84e3-3ad997997306"
      },
      "outputs": [],
      "source": [
        "def apply_wifi_noise(packet, reverse=False):\n",
        "    if reverse:\n",
        "        cleaned_packet = packet[::-1]\n",
        "        return cleaned_packet\n",
        "    else:\n",
        "        if random.random() < 0.1:\n",
        "            return None\n",
        "        if random.random() < 0.05:\n",
        "            return packet[::-1]\n",
        "        return packet"
      ]
    },
    {
      "cell_type": "markdown",
      "metadata": {
        "id": "DwhZYjUPjefS"
      },
      "source": [
        "# Canal 3"
      ]
    },
    {
      "cell_type": "code",
      "execution_count": 11,
      "metadata": {
        "colab": {
          "base_uri": "https://localhost:8080/"
        },
        "id": "MH-dec6AYlVE",
        "outputId": "af4ebe25-cae3-4ee1-d524-2dbbad256556"
      },
      "outputs": [],
      "source": [
        "def simulate_wifi_channel(packets):\n",
        "    noisy_packets = []\n",
        "    for packet in packets:\n",
        "        noisy_packet = apply_wifi_noise(packet, reverse=False)\n",
        "        if noisy_packet:\n",
        "            noisy_packets.append(noisy_packet)\n",
        "    return noisy_packets"
      ]
    },
    {
      "cell_type": "markdown",
      "metadata": {
        "id": "a4ECkEBdjg9L"
      },
      "source": [
        "# Canal 4"
      ]
    },
    {
      "cell_type": "code",
      "execution_count": 12,
      "metadata": {
        "colab": {
          "base_uri": "https://localhost:8080/"
        },
        "id": "raTtCfLl22An",
        "outputId": "c43e115a-1b07-45ea-e3a6-f241e08179d9"
      },
      "outputs": [],
      "source": [
        "def decode_packets(noisy_packets):\n",
        "    cleaned_packets = []\n",
        "    for noisy_packet in noisy_packets:\n",
        "        cleaned_packet = apply_wifi_noise(noisy_packet, reverse=True)\n",
        "        if cleaned_packet:\n",
        "            cleaned_packets.append(cleaned_packet)\n",
        "    return cleaned_packets"
      ]
    },
    {
      "cell_type": "markdown",
      "metadata": {
        "id": "ZNy64WCjjjg7"
      },
      "source": [
        "# Canal 5"
      ]
    },
    {
      "cell_type": "code",
      "execution_count": 13,
      "metadata": {
        "id": "IankKw_De5kq"
      },
      "outputs": [],
      "source": [
        "def reconstruct_book(cleaned_packets):\n",
        "    combined_data = b''.join(cleaned_packets)\n",
        "    \n",
        "    # Eliminar cualquier caracter que no sea válido en base64\n",
        "    combined_data = re.sub(b'[^a-zA-Z0-9/+]', b'', combined_data)\n",
        "    \n",
        "    # Agregar padding válido si es necesario\n",
        "    padding_length = len(combined_data) % 4\n",
        "    if padding_length > 0:\n",
        "        combined_data += b'=' * (4 - padding_length)\n",
        "    \n",
        "    book_content = base64.b64decode(combined_data)\n",
        "    return book_content"
      ]
    },
    {
      "cell_type": "code",
      "execution_count": 14,
      "metadata": {},
      "outputs": [],
      "source": [
        "book = encode_book()\n",
        "book_env = simulate_wifi_channel(book)\n",
        "book_decode = decode_packets(book_env)\n",
        "book_reconst = reconstruct_book(book_decode)\n",
        "mi_path = \"QUIMICA 2 INVESTIGACION2.pdf\"\n",
        "with open(mi_path, 'wb') as f:\n",
        "    f.write(book_reconst)"
      ]
    }
  ],
  "metadata": {
    "colab": {
      "provenance": []
    },
    "kernelspec": {
      "display_name": "Python 3",
      "name": "python3"
    },
    "language_info": {
      "codemirror_mode": {
        "name": "ipython",
        "version": 3
      },
      "file_extension": ".py",
      "mimetype": "text/x-python",
      "name": "python",
      "nbconvert_exporter": "python",
      "pygments_lexer": "ipython3",
      "version": "3.8.16"
    }
  },
  "nbformat": 4,
  "nbformat_minor": 0
}
